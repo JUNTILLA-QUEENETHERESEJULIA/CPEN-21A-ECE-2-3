{
  "nbformat": 4,
  "nbformat_minor": 0,
  "metadata": {
    "colab": {
      "name": "Demo1.ipynb",
      "provenance": [],
      "collapsed_sections": [],
      "authorship_tag": "ABX9TyPDtAN9QtSamW9N559oZhqS",
      "include_colab_link": true
    },
    "kernelspec": {
      "name": "python3",
      "display_name": "Python 3"
    },
    "language_info": {
      "name": "python"
    }
  },
  "cells": [
    {
      "cell_type": "markdown",
      "metadata": {
        "id": "view-in-github",
        "colab_type": "text"
      },
      "source": [
        "<a href=\"https://colab.research.google.com/github/JUNTILLA-QUEENETHERESEJULIA/CPEN-21A-ECE-2-3/blob/main/Demo1.ipynb\" target=\"_parent\"><img src=\"https://colab.research.google.com/assets/colab-badge.svg\" alt=\"Open In Colab\"/></a>"
      ]
    },
    {
      "cell_type": "markdown",
      "metadata": {
        "id": "m1WNrJc44t0g"
      },
      "source": [
        "#Python Indentation "
      ]
    },
    {
      "cell_type": "code",
      "metadata": {
        "id": "62K-hOOsiwAx",
        "colab": {
          "base_uri": "https://localhost:8080/"
        },
        "outputId": "f4287f62-4eb8-4e1f-c256-9cd2a7bbac62"
      },
      "source": [
        "if 5 > 2:\n",
        "  print(\"Five is greater than two!\") #this code shows a string of word "
      ],
      "execution_count": 19,
      "outputs": [
        {
          "output_type": "stream",
          "name": "stdout",
          "text": [
            "Five is greater than two!\n"
          ]
        }
      ]
    },
    {
      "cell_type": "markdown",
      "metadata": {
        "id": "n8pg9B-45ivW"
      },
      "source": [
        "#Python Variable "
      ]
    },
    {
      "cell_type": "code",
      "metadata": {
        "colab": {
          "base_uri": "https://localhost:8080/"
        },
        "id": "DPkvmMnt5onj",
        "outputId": "ac634102-8510-482c-f37d-ba495707a781"
      },
      "source": [
        "x = 1\n",
        "a, b=0,-1\n",
        "a, b, c=0,1,2\n",
        "print(a)\n",
        "print(b)\n",
        "print(c)"
      ],
      "execution_count": 43,
      "outputs": [
        {
          "output_type": "stream",
          "name": "stdout",
          "text": [
            "0\n",
            "1\n",
            "2\n"
          ]
        }
      ]
    },
    {
      "cell_type": "markdown",
      "metadata": {
        "id": "q0ad9A9C7UvX"
      },
      "source": [
        "#Cast"
      ]
    },
    {
      "cell_type": "code",
      "metadata": {
        "colab": {
          "base_uri": "https://localhost:8080/"
        },
        "id": "XN-yQEan7aOy",
        "outputId": "d3831799-a971-475f-b939-f4b718c3dd5e"
      },
      "source": [
        "b=\"sally\" #This is a type of string\n",
        "\n",
        "b=int(4)\n",
        "\n",
        "print(b)\n",
        "\n",
        "b=float(4)\n",
        "\n",
        "print(b)\n"
      ],
      "execution_count": 35,
      "outputs": [
        {
          "output_type": "stream",
          "name": "stdout",
          "text": [
            "4\n",
            "4.0\n"
          ]
        }
      ]
    },
    {
      "cell_type": "markdown",
      "metadata": {
        "id": "SfA9Eebe9CEY"
      },
      "source": [
        "#Type() function\n"
      ]
    },
    {
      "cell_type": "code",
      "metadata": {
        "colab": {
          "base_uri": "https://localhost:8080/"
        },
        "id": "8wXeZWw89FsZ",
        "outputId": "54f3bc3c-a311-4d10-d054-a2bff3db5e77"
      },
      "source": [
        "x = 5\n",
        "y = \"John\"\n",
        "print(type(x))\n",
        "print(type(y))"
      ],
      "execution_count": 36,
      "outputs": [
        {
          "output_type": "stream",
          "name": "stdout",
          "text": [
            "<class 'int'>\n",
            "<class 'str'>\n"
          ]
        }
      ]
    },
    {
      "cell_type": "markdown",
      "metadata": {
        "id": "4X9_m4pX9OwS"
      },
      "source": [
        "#“Double quotes” or ‘Single’ quotes"
      ]
    },
    {
      "cell_type": "code",
      "metadata": {
        "colab": {
          "base_uri": "https://localhost:8080/"
        },
        "id": "aTKc-7-49Tie",
        "outputId": "7d6ebae8-a3cb-47ca-f7ae-da19a22ae830"
      },
      "source": [
        "x= \"John\"\n",
        "y= 'John'\n",
        "print(y)\n",
        "print(x)"
      ],
      "execution_count": 54,
      "outputs": [
        {
          "output_type": "stream",
          "name": "stdout",
          "text": [
            "John\n",
            "John\n"
          ]
        }
      ]
    },
    {
      "cell_type": "markdown",
      "metadata": {
        "id": "Sqv2LI6u92to"
      },
      "source": [
        "#Case Sensitive "
      ]
    },
    {
      "cell_type": "code",
      "metadata": {
        "colab": {
          "base_uri": "https://localhost:8080/"
        },
        "id": "wrEkvXi199YX",
        "outputId": "f894765b-1bfe-413b-f326-f59c0878e7ef"
      },
      "source": [
        "a = 4\n",
        "A= \"Sally\"\n",
        "print(a)\n",
        "print(A)\n",
        "#A will not overwrite a"
      ],
      "execution_count": 56,
      "outputs": [
        {
          "output_type": "stream",
          "name": "stdout",
          "text": [
            "4\n",
            "Sally\n"
          ]
        }
      ]
    },
    {
      "cell_type": "markdown",
      "metadata": {
        "id": "Sk9qrLf5CeN_"
      },
      "source": [
        "#Multiple Variable "
      ]
    },
    {
      "cell_type": "code",
      "metadata": {
        "colab": {
          "base_uri": "https://localhost:8080/"
        },
        "id": "qP24W450Ckz5",
        "outputId": "96335238-03cb-4a0a-cc90-164c2add7f9e"
      },
      "source": [
        "x, y, z=1,2,3\n",
        "\n",
        "print(x)\n",
        "\n",
        "print(y)\n",
        "\n",
        "print(z)"
      ],
      "execution_count": 60,
      "outputs": [
        {
          "output_type": "stream",
          "name": "stdout",
          "text": [
            "1\n",
            "2\n",
            "3\n"
          ]
        }
      ]
    },
    {
      "cell_type": "markdown",
      "metadata": {
        "id": "mf1mx43BD9HR"
      },
      "source": [
        "#One Value to Multiple Variables"
      ]
    },
    {
      "cell_type": "code",
      "metadata": {
        "colab": {
          "base_uri": "https://localhost:8080/"
        },
        "id": "dDFgX3AoEIj8",
        "outputId": "d31e1b1e-b5f5-4ad3-c841-c57a77f8dec6"
      },
      "source": [
        "x = y = z = \"four\"\n",
        "print(x)\n",
        "print(y)\n",
        "print(z)"
      ],
      "execution_count": 61,
      "outputs": [
        {
          "output_type": "stream",
          "name": "stdout",
          "text": [
            "four\n",
            "four\n",
            "four\n"
          ]
        }
      ]
    },
    {
      "cell_type": "markdown",
      "metadata": {
        "id": "9XZrMFsVEOtE"
      },
      "source": [
        "#Output Variables"
      ]
    },
    {
      "cell_type": "code",
      "metadata": {
        "colab": {
          "base_uri": "https://localhost:8080/"
        },
        "id": "41nT2UiHEbE-",
        "outputId": "48d9266a-c637-460c-b9db-0330614e9021"
      },
      "source": [
        "x = 10\n",
        "y = 5\n",
        "z = x + y\n",
        "print(z)"
      ],
      "execution_count": 62,
      "outputs": [
        {
          "output_type": "stream",
          "name": "stdout",
          "text": [
            "15\n"
          ]
        }
      ]
    },
    {
      "cell_type": "markdown",
      "metadata": {
        "id": "upnS906sHetR"
      },
      "source": [
        "#Operations"
      ]
    },
    {
      "cell_type": "code",
      "metadata": {
        "colab": {
          "base_uri": "https://localhost:8080/"
        },
        "id": "m4iO77fHHkVd",
        "outputId": "633e1794-d1b4-4ea9-8264-a81cac8cbc50"
      },
      "source": [
        "k=10\n",
        "l=5 \n",
        "print(k+l)"
      ],
      "execution_count": 63,
      "outputs": [
        {
          "output_type": "stream",
          "name": "stdout",
          "text": [
            "15\n"
          ]
        }
      ]
    },
    {
      "cell_type": "code",
      "metadata": {
        "colab": {
          "base_uri": "https://localhost:8080/"
        },
        "id": "5uxhhLPAKMQT",
        "outputId": "1a10181a-9953-4e17-9c91-dadc4063299d"
      },
      "source": [
        "k<5 and l<1"
      ],
      "execution_count": 64,
      "outputs": [
        {
          "output_type": "execute_result",
          "data": {
            "text/plain": [
              "False"
            ]
          },
          "metadata": {},
          "execution_count": 64
        }
      ]
    },
    {
      "cell_type": "code",
      "metadata": {
        "colab": {
          "base_uri": "https://localhost:8080/"
        },
        "id": "GEr0QWk8KqH5",
        "outputId": "102baff4-7dbe-453d-9a06-ce173d2aca8b"
      },
      "source": [
        "k>5 or l<1"
      ],
      "execution_count": 66,
      "outputs": [
        {
          "output_type": "execute_result",
          "data": {
            "text/plain": [
              "True"
            ]
          },
          "metadata": {},
          "execution_count": 66
        }
      ]
    },
    {
      "cell_type": "code",
      "metadata": {
        "colab": {
          "base_uri": "https://localhost:8080/"
        },
        "id": "4T7szUIbK5by",
        "outputId": "d86bf0f6-d8eb-43f4-9d90-e11fb6a4fa8f"
      },
      "source": [
        "not(k<5 and l<1)"
      ],
      "execution_count": 68,
      "outputs": [
        {
          "output_type": "execute_result",
          "data": {
            "text/plain": [
              "True"
            ]
          },
          "metadata": {},
          "execution_count": 68
        }
      ]
    },
    {
      "cell_type": "code",
      "metadata": {
        "colab": {
          "base_uri": "https://localhost:8080/"
        },
        "id": "BW21QSe4LFNv",
        "outputId": "f80c4566-cb54-40ac-a7b6-a7dedcd3f347"
      },
      "source": [
        "k is l"
      ],
      "execution_count": 69,
      "outputs": [
        {
          "output_type": "execute_result",
          "data": {
            "text/plain": [
              "False"
            ]
          },
          "metadata": {},
          "execution_count": 69
        }
      ]
    },
    {
      "cell_type": "code",
      "metadata": {
        "colab": {
          "base_uri": "https://localhost:8080/"
        },
        "id": "rDjdFrGoLJho",
        "outputId": "d72fafcc-3783-45e2-df7e-58a4326bad4f"
      },
      "source": [
        "k is not l"
      ],
      "execution_count": 70,
      "outputs": [
        {
          "output_type": "execute_result",
          "data": {
            "text/plain": [
              "True"
            ]
          },
          "metadata": {},
          "execution_count": 70
        }
      ]
    }
  ]
}