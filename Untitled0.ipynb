{
  "nbformat": 4,
  "nbformat_minor": 0,
  "metadata": {
    "colab": {
      "name": "Untitled0.ipynb",
      "provenance": [],
      "authorship_tag": "ABX9TyMEQjXO4H3oJZU8ebJCa962",
      "include_colab_link": true
    },
    "kernelspec": {
      "name": "python3",
      "display_name": "Python 3"
    },
    "language_info": {
      "name": "python"
    }
  },
  "cells": [
    {
      "cell_type": "markdown",
      "metadata": {
        "id": "view-in-github",
        "colab_type": "text"
      },
      "source": [
        "<a href=\"https://colab.research.google.com/github/JUNTILLA-QUEENETHERESEJULIA/CPEN-21A-ECE-2-3/blob/main/Untitled0.ipynb\" target=\"_parent\"><img src=\"https://colab.research.google.com/assets/colab-badge.svg\" alt=\"Open In Colab\"/></a>"
      ]
    },
    {
      "cell_type": "markdown",
      "metadata": {
        "id": "GJh5fXjay5vR"
      },
      "source": [
        "#LABORATORY 1"
      ]
    },
    {
      "cell_type": "markdown",
      "metadata": {
        "id": "JFAVxANDxNmA"
      },
      "source": [
        "##WELCOME TO PYTHON PROGRAMMING "
      ]
    },
    {
      "cell_type": "code",
      "metadata": {
        "colab": {
          "base_uri": "https://localhost:8080/"
        },
        "id": "ZUznv44exh-g",
        "outputId": "80e9fac8-6ba9-46cf-c6f4-fd355c5f2464"
      },
      "source": [
        "n=\" Queene Therese Julia Juntilla\"\n",
        "ad=\" Blk 2 Lot 125 Phase 3 Mabuhay Homes 2000\"\n",
        "b= \" Paliparan 2\"\n",
        "c= \" Dasmariñas City, Cavite\"\n",
        "ag=\" 19 years old\"\n",
        "print(\"I am\"+n)\n",
        "print(\"Currently residing at\"+ad+b+c)\n",
        "print(\"I am\"+ag)"
      ],
      "execution_count": 16,
      "outputs": [
        {
          "output_type": "stream",
          "name": "stdout",
          "text": [
            "I am Queene Therese Julia Juntilla\n",
            "Currently residing at Blk 2 Lot 125 Phase 3 Mabuhay Homes 2000 Paliparan 2 Dasmariñas City, Cavite\n",
            "I am 19 years old\n"
          ]
        }
      ]
    }
  ]
}