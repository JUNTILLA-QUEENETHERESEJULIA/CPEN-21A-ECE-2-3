{
  "nbformat": 4,
  "nbformat_minor": 0,
  "metadata": {
    "colab": {
      "name": "Midterm Exam.ipynb",
      "provenance": [],
      "authorship_tag": "ABX9TyPlMshU3Ukmq2dpmM8so5qj",
      "include_colab_link": true
    },
    "kernelspec": {
      "name": "python3",
      "display_name": "Python 3"
    },
    "language_info": {
      "name": "python"
    }
  },
  "cells": [
    {
      "cell_type": "markdown",
      "metadata": {
        "id": "view-in-github",
        "colab_type": "text"
      },
      "source": [
        "<a href=\"https://colab.research.google.com/github/JUNTILLA-QUEENETHERESEJULIA/CPEN-21A-ECE-2-3/blob/main/Midterm_Exam.ipynb\" target=\"_parent\"><img src=\"https://colab.research.google.com/assets/colab-badge.svg\" alt=\"Open In Colab\"/></a>"
      ]
    },
    {
      "cell_type": "markdown",
      "metadata": {
        "id": "8Pk7U79HvHv8"
      },
      "source": [
        "#Midterm Exam "
      ]
    },
    {
      "cell_type": "markdown",
      "metadata": {
        "id": "4DjZk58CwaTh"
      },
      "source": [
        "###Problem Statement 1 "
      ]
    },
    {
      "cell_type": "code",
      "metadata": {
        "colab": {
          "base_uri": "https://localhost:8080/"
        },
        "id": "7MM_985kweYx",
        "outputId": "7908d152-83e8-4eb4-fb82-60f91300655b"
      },
      "source": [
        "a= \"Queene Therese Julia Juntilla\"\n",
        "b= \"202015865\"\n",
        "c= \"19 Years Old\"\n",
        "d= \"August 12,2002\"\n",
        "e= \"BLK 2 LT 125 PH3 Mabuhay Homes 2000, Baranggay Paliparan II City of Dasmariñas, Cavite\"\n",
        "f= \"Bachelor of Science in Electronics and Communications Engineering\"\n",
        "g= \"1.65\"\n",
        "print (\"Full Name: \"+a)\n",
        "print (\"Student Number: \"+b)\n",
        "print (\"Age: \"+c)\n",
        "print (\"Birthday: \"+d)\n",
        "print (\"Address: \"+e)\n",
        "print (\"Course: \"+f)\n",
        "print (\"Last Sem GWA: \"+g)"
      ],
      "execution_count": 13,
      "outputs": [
        {
          "output_type": "stream",
          "name": "stdout",
          "text": [
            "Full Name: Queene Therese Julia Juntilla\n",
            "Student Number: 202015865\n",
            "Age: 19 Years Old\n",
            "Birthday: August 12,2002\n",
            "Address: BLK 2 LT 125 PH3 Mabuhay Homes 2000, Baranggay Paliparan II City of Dasmariñas, Cavite\n",
            "Course: Bachelor of Science in Electronics and Communications Engineering\n",
            "Last Sem GWA: 1.65\n"
          ]
        }
      ]
    },
    {
      "cell_type": "markdown",
      "metadata": {
        "id": "dZjR5LcjzbXF"
      },
      "source": [
        "###Problem Statement 2 "
      ]
    },
    {
      "cell_type": "code",
      "metadata": {
        "colab": {
          "base_uri": "https://localhost:8080/"
        },
        "id": "dpWIvppEzfd5",
        "outputId": "2149fab3-404e-4a95-f72a-093522c83cca"
      },
      "source": [
        "n=4\n",
        "answ=\"Y\"\n",
        "print(2<n and n<6)\n",
        "print(2<n or n==6)\n",
        "print(not 2<n or n==6)\n",
        "print(not n<6)\n",
        "print(answ==\"Y\" or answ==\"y\")\n",
        "print(answ==\"Y\" and answ==\"y\")\n",
        "print(not answ==\"y\")\n",
        "print((2<n) and n==5+1) or (answ==\"no\")\n",
        "print(n==2 and n==7) or (answ==\"Y\")\n",
        "print(n==2) and(n==7 or answ==\"Y\")\n"
      ],
      "execution_count": 36,
      "outputs": [
        {
          "output_type": "stream",
          "name": "stdout",
          "text": [
            "True\n",
            "True\n",
            "False\n",
            "False\n",
            "True\n",
            "False\n",
            "True\n",
            "False\n",
            "False\n",
            "False\n"
          ]
        }
      ]
    },
    {
      "cell_type": "markdown",
      "metadata": {
        "id": "Vqao8IGg4jku"
      },
      "source": [
        "###Problem Statement 3"
      ]
    },
    {
      "cell_type": "code",
      "metadata": {
        "colab": {
          "base_uri": "https://localhost:8080/"
        },
        "id": "yDVioJpB4nXq",
        "outputId": "78d754b5-3275-4c7f-bead-ef179aa56587"
      },
      "source": [
        "x=2\n",
        "y=-3\n",
        "w=7\n",
        "z= -10\n",
        "print(x/y)\n",
        "print(w/y/x)\n",
        "print(z/y%x)\n",
        "print(x%-y*w)\n",
        "print(x%y)\n",
        "print(z%w-y/x*5+5)\n",
        "print(9-x%(2+y))\n",
        "print(z//w)\n",
        "print((2+y)**2)\n",
        "print((w/x)*2)"
      ],
      "execution_count": 52,
      "outputs": [
        {
          "output_type": "stream",
          "name": "stdout",
          "text": [
            "-0.6666666666666666\n",
            "-1.1666666666666667\n",
            "1.3333333333333335\n",
            "14\n",
            "-1\n",
            "16.5\n",
            "9\n",
            "-2\n",
            "1\n",
            "7.0\n"
          ]
        }
      ]
    }
  ]
}