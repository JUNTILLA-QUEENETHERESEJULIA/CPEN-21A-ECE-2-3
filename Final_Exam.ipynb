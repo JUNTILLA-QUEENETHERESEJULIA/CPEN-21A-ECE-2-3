{
  "cells": [
    {
      "cell_type": "markdown",
      "metadata": {
        "id": "view-in-github",
        "colab_type": "text"
      },
      "source": [
        "<a href=\"https://colab.research.google.com/github/JUNTILLA-QUEENETHERESEJULIA/CPEN-21A-ECE-2-3/blob/main/Final_Exam.ipynb\" target=\"_parent\"><img src=\"https://colab.research.google.com/assets/colab-badge.svg\" alt=\"Open In Colab\"/></a>"
      ]
    },
    {
      "cell_type": "markdown",
      "metadata": {
        "id": "TDDGc7OgUI8F"
      },
      "source": [
        "#Final Exam "
      ]
    },
    {
      "cell_type": "markdown",
      "source": [
        "##Problem Statement 1\n",
        "######Create a Python program that will produce an output of sum of 10 numbers less than 5 using FOR LOOP statement."
      ],
      "metadata": {
        "id": "OOVNiURXe8To"
      }
    },
    {
      "cell_type": "code",
      "execution_count": 33,
      "metadata": {
        "colab": {
          "base_uri": "https://localhost:8080/"
        },
        "id": "VE6rmH4SUD9y",
        "outputId": "7a5209a0-2741-4f9b-ec98-fa20bee255d4"
      },
      "outputs": [
        {
          "output_type": "stream",
          "name": "stdout",
          "text": [
            "4\n",
            "3\n",
            "2\n",
            "1\n",
            "0\n",
            "-1\n",
            "-2\n",
            "-3\n",
            "-4\n",
            "-5\n",
            "The sum of 10 numbers less than 5 is  -5\n"
          ]
        }
      ],
      "source": [
        "sum=0\n",
        "num=[4,3,2,1,0,-1,-2,-3,-4,-5]\n",
        "for x in num:\n",
        "  print(x)\n",
        "  sum+=x\n",
        "  print(\"The sum of 10 numbers less than 5 is\",sum)"
      ]
    },
    {
      "cell_type": "markdown",
      "metadata": {
        "id": "HaqYh6NuUKP5"
      },
      "source": [
        "##Problem Statement 2 \n",
        "######Create a Python program that will produce accept five numbers and determine the sum of first and last number among the five numbers entered using WHILE LOOP\n",
        "\n"
      ]
    },
    {
      "cell_type": "code",
      "execution_count": 17,
      "metadata": {
        "colab": {
          "base_uri": "https://localhost:8080/"
        },
        "id": "waCOwMnmUK6x",
        "outputId": "8f242d91-4551-4d29-d6da-529a2c796807"
      },
      "outputs": [
        {
          "output_type": "stream",
          "name": "stdout",
          "text": [
            "1\n",
            "2\n",
            "3\n",
            "4\n",
            "5\n",
            "The sum of first and last digit is 6\n"
          ]
        }
      ],
      "source": [
        "l=1\n",
        "while l<=5:\n",
        "  print(l)\n",
        "  l+=1\n",
        "n=1,2,3,4,5\n",
        "print(\"The sum of first and last digit is\",1+5)\n",
        "\n",
        "  "
      ]
    },
    {
      "cell_type": "markdown",
      "source": [
        "##Problem Statement 3\n",
        "######Create a Python program to calculate student grades. It accepts a numerical grade as input and it will display the character grade as output based on the given scale: (Use Nested-IF-Else statement)"
      ],
      "metadata": {
        "id": "4z9Wgcr3ZeRL"
      }
    },
    {
      "cell_type": "code",
      "source": [
        "grade= float(input(\"Enter your grade:\"))\n",
        "if grade>=90:\n",
        "  print(\"A\")\n",
        "elif grade>=80 and grade<=89:\n",
        "  print(\"B\")\n",
        "elif grade>=70 and grade<=79:\n",
        "  print(\"C\")\n",
        "elif grade>=60 and grade <=69:\n",
        "  print(\"D\")\n",
        "else: \n",
        "  print (\"F\")"
      ],
      "metadata": {
        "colab": {
          "base_uri": "https://localhost:8080/"
        },
        "id": "7tsjoIM8ZpGm",
        "outputId": "28275a05-8c1d-4bef-8918-d05536f86b4c"
      },
      "execution_count": 34,
      "outputs": [
        {
          "output_type": "stream",
          "name": "stdout",
          "text": [
            "Enter your grade:20\n",
            "F\n"
          ]
        }
      ]
    }
  ],
  "metadata": {
    "colab": {
      "name": "Final Exam.ipynb",
      "provenance": [],
      "authorship_tag": "ABX9TyOgrXO6DMLZT/Uz6UT2oR/S",
      "include_colab_link": true
    },
    "kernelspec": {
      "display_name": "Python 3",
      "name": "python3"
    },
    "language_info": {
      "name": "python"
    }
  },
  "nbformat": 4,
  "nbformat_minor": 0
}